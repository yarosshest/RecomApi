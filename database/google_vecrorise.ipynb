{
 "cells": [
  {
   "cell_type": "code",
   "execution_count": null,
   "outputs": [],
   "source": [
    "import json\n",
    "import tensorflow_hub as hub"
   ],
   "metadata": {
    "collapsed": false
   }
  },
  {
   "cell_type": "code",
   "execution_count": null,
   "outputs": [],
   "source": [
    "def embed(input):\n",
    "    module_url = \"https://tfhub.dev/google/universal-sentence-encoder-multilingual/3\"\n",
    "    model = hub.load(module_url)\n",
    "    print(\"module %s loaded\" % module_url)\n",
    "    return model(input)"
   ],
   "metadata": {
    "collapsed": false
   }
  },
  {
   "cell_type": "code",
   "execution_count": null,
   "outputs": [],
   "source": [
    "with open('/content/data.json', 'r', encoding='utf-8') as f:\n",
    "    data = json.load(f)\n",
    "\n",
    "ids = [i['id'] for i in data]\n",
    "texts = [i['description'] for i in data]\n",
    "\n",
    "vectors = embed(texts)\n",
    "\n",
    "res = []\n",
    "for vec in vectors:\n",
    "    res.append({\n",
    "        'id': ids[0],\n",
    "        'vector': vec\n",
    "    })\n",
    "\n",
    "with open('res.json', 'w') as f:\n",
    "    json.dump(res, f)"
   ],
   "metadata": {
    "collapsed": false
   }
  }
 ],
 "metadata": {
  "kernelspec": {
   "display_name": "Python 3",
   "language": "python",
   "name": "python3"
  },
  "language_info": {
   "codemirror_mode": {
    "name": "ipython",
    "version": 2
   },
   "file_extension": ".py",
   "mimetype": "text/x-python",
   "name": "python",
   "nbconvert_exporter": "python",
   "pygments_lexer": "ipython2",
   "version": "2.7.6"
  }
 },
 "nbformat": 4,
 "nbformat_minor": 0
}
