{
 "cells": [
  {
   "cell_type": "code",
   "execution_count": 1,
   "metadata": {
    "ExecuteTime": {
     "end_time": "2023-05-03T22:19:19.484290200Z",
     "start_time": "2023-05-03T22:19:15.059538200Z"
    }
   },
   "outputs": [],
   "source": [
    "from catboost import CatBoostClassifier\n",
    "from sklearn.model_selection import train_test_split\n",
    "from database.async_db import asyncHandler as db\n",
    "from navec import Navec"
   ]
  },
  {
   "cell_type": "markdown",
   "metadata": {},
   "source": [
    "# 1. Sentence embedding"
   ]
  },
  {
   "cell_type": "code",
   "execution_count": 2,
   "metadata": {
    "ExecuteTime": {
     "end_time": "2023-05-03T22:19:19.499282400Z",
     "start_time": "2023-05-03T22:19:19.485287900Z"
    }
   },
   "outputs": [],
   "source": [
    "async def get_vector_data(id_t, id_f):\n",
    "    t = [await db.get_vector_by_p_id(i) for i in id_t]\n",
    "    f = [await db.get_vector_by_p_id(i) for i in id_f]\n",
    "    return t + f, [1] * len(t) + [0] * len(f)"
   ]
  },
  {
   "cell_type": "code",
   "execution_count": 3,
   "metadata": {
    "ExecuteTime": {
     "end_time": "2023-05-03T22:19:35.363276600Z",
     "start_time": "2023-05-03T22:19:19.499282400Z"
    }
   },
   "outputs": [
    {
     "data": {
      "application/vnd.jupyter.widget-view+json": {
       "model_id": "",
       "version_major": 2,
       "version_minor": 0
      },
      "text/plain": [
       "MetricVisualizer(layout=Layout(align_self='stretch', height='500px'))"
      ]
     },
     "metadata": {},
     "output_type": "display_data"
    },
    {
     "data": {
      "text/plain": [
       "<catboost.core.CatBoostClassifier at 0x2b6b5473c70>"
      ]
     },
     "execution_count": 3,
     "metadata": {},
     "output_type": "execute_result"
    }
   ],
   "source": [
    "id_t = [255, 67, 35, 446, 382, 498]\n",
    "\n",
    "id_f = [507, 8005, 2774, 1998, 10806, 11649, 2873, 10135, 9498, 4669, 11457, 11339, 9106, 8793, 2169, 8905, 3790,\n",
    "        3832, 5273, 10106, 5402, 260, 70, 6270, 3893, 387]\n",
    "\n",
    "x, y = await get_vector_data(id_t, id_f)\n",
    "X_train, X_test, y_train, y_test = train_test_split(x, y, test_size=0.2)\n",
    "\n",
    "cat = CatBoostClassifier()\n",
    "\n",
    "cat.fit(\n",
    "   X_train, y_train,\n",
    "   eval_set=(X_test, y_test),\n",
    "   logging_level='Silent',\n",
    "   plot=True\n",
    ")"
   ]
  },
  {
   "cell_type": "markdown",
   "metadata": {},
   "source": [
    "# 2. Word embedding"
   ]
  },
  {
   "cell_type": "code",
   "execution_count": 4,
   "metadata": {
    "ExecuteTime": {
     "end_time": "2023-05-03T22:19:35.383278200Z",
     "start_time": "2023-05-03T22:19:35.363276600Z"
    }
   },
   "outputs": [],
   "source": [
    "async def get_word_data(id_t, id_f):\n",
    "    path = 'hudlit_v1_12B_500K_300d_100q.tar'\n",
    "    navec = Navec.load(path)\n",
    "\n",
    "    t = [await navec.get(db.get_lemma_by_p_id(i)) for i in id_t]\n",
    "    f = [await navec.get(db.get_lemma_by_p_id(i)) for i in id_f]\n",
    "    return t + f, [1] * len(t) + [0] * len(f)"
   ]
  },
  {
   "cell_type": "code",
   "execution_count": 5,
   "metadata": {},
   "outputs": [
    {
     "ename": "FileNotFoundError",
     "evalue": "[Errno 2] No such file or directory: 'hudlit_v1_12B_500K_300d_100q.tar'",
     "output_type": "error",
     "traceback": [
      "\u001B[1;31m---------------------------------------------------------------------------\u001B[0m",
      "\u001B[1;31mFileNotFoundError\u001B[0m                         Traceback (most recent call last)",
      "Cell \u001B[1;32mIn[5], line 6\u001B[0m\n\u001B[0;32m      1\u001B[0m id_t \u001B[38;5;241m=\u001B[39m [\u001B[38;5;241m255\u001B[39m, \u001B[38;5;241m67\u001B[39m, \u001B[38;5;241m35\u001B[39m, \u001B[38;5;241m446\u001B[39m, \u001B[38;5;241m382\u001B[39m, \u001B[38;5;241m498\u001B[39m]\n\u001B[0;32m      3\u001B[0m id_f \u001B[38;5;241m=\u001B[39m [\u001B[38;5;241m507\u001B[39m, \u001B[38;5;241m8005\u001B[39m, \u001B[38;5;241m2774\u001B[39m, \u001B[38;5;241m1998\u001B[39m, \u001B[38;5;241m10806\u001B[39m, \u001B[38;5;241m11649\u001B[39m, \u001B[38;5;241m2873\u001B[39m, \u001B[38;5;241m10135\u001B[39m, \u001B[38;5;241m9498\u001B[39m, \u001B[38;5;241m4669\u001B[39m, \u001B[38;5;241m11457\u001B[39m, \u001B[38;5;241m11339\u001B[39m, \u001B[38;5;241m9106\u001B[39m, \u001B[38;5;241m8793\u001B[39m, \u001B[38;5;241m2169\u001B[39m, \u001B[38;5;241m8905\u001B[39m, \u001B[38;5;241m3790\u001B[39m,\n\u001B[0;32m      4\u001B[0m         \u001B[38;5;241m3832\u001B[39m, \u001B[38;5;241m5273\u001B[39m, \u001B[38;5;241m10106\u001B[39m, \u001B[38;5;241m5402\u001B[39m, \u001B[38;5;241m260\u001B[39m, \u001B[38;5;241m70\u001B[39m, \u001B[38;5;241m6270\u001B[39m, \u001B[38;5;241m3893\u001B[39m, \u001B[38;5;241m387\u001B[39m]\n\u001B[1;32m----> 6\u001B[0m x, y \u001B[38;5;241m=\u001B[39m \u001B[38;5;28;01mawait\u001B[39;00m get_word_data(id_t, id_f)\n\u001B[0;32m      7\u001B[0m X_train, X_test, y_train, y_test \u001B[38;5;241m=\u001B[39m train_test_split(x, y, test_size\u001B[38;5;241m=\u001B[39m\u001B[38;5;241m0.2\u001B[39m)\n\u001B[0;32m      9\u001B[0m cat \u001B[38;5;241m=\u001B[39m CatBoostClassifier()\n",
      "Cell \u001B[1;32mIn[4], line 3\u001B[0m, in \u001B[0;36mget_word_data\u001B[1;34m(id_t, id_f)\u001B[0m\n\u001B[0;32m      1\u001B[0m \u001B[38;5;28;01masync\u001B[39;00m \u001B[38;5;28;01mdef\u001B[39;00m \u001B[38;5;21mget_word_data\u001B[39m(id_t, id_f):\n\u001B[0;32m      2\u001B[0m     path \u001B[38;5;241m=\u001B[39m \u001B[38;5;124m'\u001B[39m\u001B[38;5;124mhudlit_v1_12B_500K_300d_100q.tar\u001B[39m\u001B[38;5;124m'\u001B[39m\n\u001B[1;32m----> 3\u001B[0m     navec \u001B[38;5;241m=\u001B[39m \u001B[43mNavec\u001B[49m\u001B[38;5;241;43m.\u001B[39;49m\u001B[43mload\u001B[49m\u001B[43m(\u001B[49m\u001B[43mpath\u001B[49m\u001B[43m)\u001B[49m\n\u001B[0;32m      5\u001B[0m     t \u001B[38;5;241m=\u001B[39m [\u001B[38;5;28;01mawait\u001B[39;00m navec\u001B[38;5;241m.\u001B[39mget(db\u001B[38;5;241m.\u001B[39mget_lemma_by_p_id(i)) \u001B[38;5;28;01mfor\u001B[39;00m i \u001B[38;5;129;01min\u001B[39;00m id_t]\n\u001B[0;32m      6\u001B[0m     f \u001B[38;5;241m=\u001B[39m [\u001B[38;5;28;01mawait\u001B[39;00m navec\u001B[38;5;241m.\u001B[39mget(db\u001B[38;5;241m.\u001B[39mget_lemma_by_p_id(i)) \u001B[38;5;28;01mfor\u001B[39;00m i \u001B[38;5;129;01min\u001B[39;00m id_f]\n",
      "File \u001B[1;32mD:\\PycharmProjects\\RecomApi\\venv\\lib\\site-packages\\navec\\navec.py:62\u001B[0m, in \u001B[0;36mNavec.load\u001B[1;34m(cls, path)\u001B[0m\n\u001B[0;32m     60\u001B[0m \u001B[38;5;129m@classmethod\u001B[39m\n\u001B[0;32m     61\u001B[0m \u001B[38;5;28;01mdef\u001B[39;00m \u001B[38;5;21mload\u001B[39m(\u001B[38;5;28mcls\u001B[39m, path):\n\u001B[1;32m---> 62\u001B[0m     \u001B[38;5;28;01mwith\u001B[39;00m Tar(path) \u001B[38;5;28;01mas\u001B[39;00m tar:\n\u001B[0;32m     63\u001B[0m         file \u001B[38;5;241m=\u001B[39m tar\u001B[38;5;241m.\u001B[39mload(META)\n\u001B[0;32m     64\u001B[0m         meta \u001B[38;5;241m=\u001B[39m Meta\u001B[38;5;241m.\u001B[39mfrom_file(file)\n",
      "File \u001B[1;32mD:\\PycharmProjects\\RecomApi\\venv\\lib\\site-packages\\navec\\tar.py:17\u001B[0m, in \u001B[0;36mTar.__enter__\u001B[1;34m(self)\u001B[0m\n\u001B[0;32m     16\u001B[0m \u001B[38;5;28;01mdef\u001B[39;00m \u001B[38;5;21m__enter__\u001B[39m(\u001B[38;5;28mself\u001B[39m):\n\u001B[1;32m---> 17\u001B[0m     \u001B[38;5;28mself\u001B[39m\u001B[38;5;241m.\u001B[39mtar \u001B[38;5;241m=\u001B[39m \u001B[43mtarfile\u001B[49m\u001B[38;5;241;43m.\u001B[39;49m\u001B[43mopen\u001B[49m\u001B[43m(\u001B[49m\u001B[38;5;28;43mself\u001B[39;49m\u001B[38;5;241;43m.\u001B[39;49m\u001B[43mpath\u001B[49m\u001B[43m,\u001B[49m\u001B[43m \u001B[49m\u001B[38;5;28;43mself\u001B[39;49m\u001B[38;5;241;43m.\u001B[39;49m\u001B[43mmode\u001B[49m\u001B[43m)\u001B[49m\n\u001B[0;32m     18\u001B[0m     \u001B[38;5;28;01mreturn\u001B[39;00m \u001B[38;5;28mself\u001B[39m\n",
      "File \u001B[1;32m~\\AppData\\Local\\Programs\\Python\\Python310\\lib\\tarfile.py:1632\u001B[0m, in \u001B[0;36mTarFile.open\u001B[1;34m(cls, name, mode, fileobj, bufsize, **kwargs)\u001B[0m\n\u001B[0;32m   1630\u001B[0m     saved_pos \u001B[38;5;241m=\u001B[39m fileobj\u001B[38;5;241m.\u001B[39mtell()\n\u001B[0;32m   1631\u001B[0m \u001B[38;5;28;01mtry\u001B[39;00m:\n\u001B[1;32m-> 1632\u001B[0m     \u001B[38;5;28;01mreturn\u001B[39;00m func(name, \u001B[38;5;124m\"\u001B[39m\u001B[38;5;124mr\u001B[39m\u001B[38;5;124m\"\u001B[39m, fileobj, \u001B[38;5;241m*\u001B[39m\u001B[38;5;241m*\u001B[39mkwargs)\n\u001B[0;32m   1633\u001B[0m \u001B[38;5;28;01mexcept\u001B[39;00m (ReadError, CompressionError) \u001B[38;5;28;01mas\u001B[39;00m e:\n\u001B[0;32m   1634\u001B[0m     error_msgs\u001B[38;5;241m.\u001B[39mappend(\u001B[38;5;124mf\u001B[39m\u001B[38;5;124m'\u001B[39m\u001B[38;5;124m- method \u001B[39m\u001B[38;5;132;01m{\u001B[39;00mcomptype\u001B[38;5;132;01m}\u001B[39;00m\u001B[38;5;124m: \u001B[39m\u001B[38;5;132;01m{\u001B[39;00me\u001B[38;5;132;01m!r}\u001B[39;00m\u001B[38;5;124m'\u001B[39m)\n",
      "File \u001B[1;32m~\\AppData\\Local\\Programs\\Python\\Python310\\lib\\tarfile.py:1698\u001B[0m, in \u001B[0;36mTarFile.gzopen\u001B[1;34m(cls, name, mode, fileobj, compresslevel, **kwargs)\u001B[0m\n\u001B[0;32m   1695\u001B[0m     \u001B[38;5;28;01mraise\u001B[39;00m CompressionError(\u001B[38;5;124m\"\u001B[39m\u001B[38;5;124mgzip module is not available\u001B[39m\u001B[38;5;124m\"\u001B[39m) \u001B[38;5;28;01mfrom\u001B[39;00m \u001B[38;5;28;01mNone\u001B[39;00m\n\u001B[0;32m   1697\u001B[0m \u001B[38;5;28;01mtry\u001B[39;00m:\n\u001B[1;32m-> 1698\u001B[0m     fileobj \u001B[38;5;241m=\u001B[39m \u001B[43mGzipFile\u001B[49m\u001B[43m(\u001B[49m\u001B[43mname\u001B[49m\u001B[43m,\u001B[49m\u001B[43m \u001B[49m\u001B[43mmode\u001B[49m\u001B[43m \u001B[49m\u001B[38;5;241;43m+\u001B[39;49m\u001B[43m \u001B[49m\u001B[38;5;124;43m\"\u001B[39;49m\u001B[38;5;124;43mb\u001B[39;49m\u001B[38;5;124;43m\"\u001B[39;49m\u001B[43m,\u001B[49m\u001B[43m \u001B[49m\u001B[43mcompresslevel\u001B[49m\u001B[43m,\u001B[49m\u001B[43m \u001B[49m\u001B[43mfileobj\u001B[49m\u001B[43m)\u001B[49m\n\u001B[0;32m   1699\u001B[0m \u001B[38;5;28;01mexcept\u001B[39;00m \u001B[38;5;167;01mOSError\u001B[39;00m \u001B[38;5;28;01mas\u001B[39;00m e:\n\u001B[0;32m   1700\u001B[0m     \u001B[38;5;28;01mif\u001B[39;00m fileobj \u001B[38;5;129;01mis\u001B[39;00m \u001B[38;5;129;01mnot\u001B[39;00m \u001B[38;5;28;01mNone\u001B[39;00m \u001B[38;5;129;01mand\u001B[39;00m mode \u001B[38;5;241m==\u001B[39m \u001B[38;5;124m'\u001B[39m\u001B[38;5;124mr\u001B[39m\u001B[38;5;124m'\u001B[39m:\n",
      "File \u001B[1;32m~\\AppData\\Local\\Programs\\Python\\Python310\\lib\\gzip.py:174\u001B[0m, in \u001B[0;36mGzipFile.__init__\u001B[1;34m(self, filename, mode, compresslevel, fileobj, mtime)\u001B[0m\n\u001B[0;32m    172\u001B[0m     mode \u001B[38;5;241m+\u001B[39m\u001B[38;5;241m=\u001B[39m \u001B[38;5;124m'\u001B[39m\u001B[38;5;124mb\u001B[39m\u001B[38;5;124m'\u001B[39m\n\u001B[0;32m    173\u001B[0m \u001B[38;5;28;01mif\u001B[39;00m fileobj \u001B[38;5;129;01mis\u001B[39;00m \u001B[38;5;28;01mNone\u001B[39;00m:\n\u001B[1;32m--> 174\u001B[0m     fileobj \u001B[38;5;241m=\u001B[39m \u001B[38;5;28mself\u001B[39m\u001B[38;5;241m.\u001B[39mmyfileobj \u001B[38;5;241m=\u001B[39m \u001B[43mbuiltins\u001B[49m\u001B[38;5;241;43m.\u001B[39;49m\u001B[43mopen\u001B[49m\u001B[43m(\u001B[49m\u001B[43mfilename\u001B[49m\u001B[43m,\u001B[49m\u001B[43m \u001B[49m\u001B[43mmode\u001B[49m\u001B[43m \u001B[49m\u001B[38;5;129;43;01mor\u001B[39;49;00m\u001B[43m \u001B[49m\u001B[38;5;124;43m'\u001B[39;49m\u001B[38;5;124;43mrb\u001B[39;49m\u001B[38;5;124;43m'\u001B[39;49m\u001B[43m)\u001B[49m\n\u001B[0;32m    175\u001B[0m \u001B[38;5;28;01mif\u001B[39;00m filename \u001B[38;5;129;01mis\u001B[39;00m \u001B[38;5;28;01mNone\u001B[39;00m:\n\u001B[0;32m    176\u001B[0m     filename \u001B[38;5;241m=\u001B[39m \u001B[38;5;28mgetattr\u001B[39m(fileobj, \u001B[38;5;124m'\u001B[39m\u001B[38;5;124mname\u001B[39m\u001B[38;5;124m'\u001B[39m, \u001B[38;5;124m'\u001B[39m\u001B[38;5;124m'\u001B[39m)\n",
      "\u001B[1;31mFileNotFoundError\u001B[0m: [Errno 2] No such file or directory: 'hudlit_v1_12B_500K_300d_100q.tar'"
     ]
    }
   ],
   "source": [
    "id_t = [255, 67, 35, 446, 382, 498]\n",
    "\n",
    "id_f = [507, 8005, 2774, 1998, 10806, 11649, 2873, 10135, 9498, 4669, 11457, 11339, 9106, 8793, 2169, 8905, 3790,\n",
    "        3832, 5273, 10106, 5402, 260, 70, 6270, 3893, 387]\n",
    "\n",
    "x, y = await get_word_data(id_t, id_f)\n",
    "X_train, X_test, y_train, y_test = train_test_split(x, y, test_size=0.2)\n",
    "\n",
    "cat = CatBoostClassifier()\n",
    "\n",
    "cat.fit(\n",
    "   X_train, y_train,\n",
    "   eval_set=(X_test, y_test),\n",
    "   logging_level='Silent',\n",
    "   plot=True\n",
    ")"
   ]
  },
  {
   "cell_type": "code",
   "execution_count": null,
   "metadata": {},
   "outputs": [],
   "source": []
  }
 ],
 "metadata": {
  "kernelspec": {
   "display_name": "Python 3 (ipykernel)",
   "language": "python",
   "name": "python3"
  },
  "language_info": {
   "codemirror_mode": {
    "name": "ipython",
    "version": 3
   },
   "file_extension": ".py",
   "mimetype": "text/x-python",
   "name": "python",
   "nbconvert_exporter": "python",
   "pygments_lexer": "ipython3",
   "version": "3.10.6"
  }
 },
 "nbformat": 4,
 "nbformat_minor": 1
}
