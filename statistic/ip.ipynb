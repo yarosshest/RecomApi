{
 "cells": [
  {
   "cell_type": "code",
   "execution_count": 1,
   "metadata": {
    "ExecuteTime": {
     "end_time": "2023-05-03T22:19:19.484290200Z",
     "start_time": "2023-05-03T22:19:15.059538200Z"
    },
    "pycharm": {
     "is_executing": true
    }
   },
   "outputs": [],
   "source": [
    "from catboost import CatBoostClassifier\n",
    "from sklearn.model_selection import train_test_split\n",
    "from database.async_db import asyncHandler as db\n",
    "from navec import Navec"
   ]
  },
  {
   "cell_type": "markdown",
   "metadata": {},
   "source": [
    "# 1. Sentence embedding"
   ]
  },
  {
   "cell_type": "code",
   "execution_count": 2,
   "metadata": {
    "ExecuteTime": {
     "end_time": "2023-05-03T22:19:19.499282400Z",
     "start_time": "2023-05-03T22:19:19.485287900Z"
    }
   },
   "outputs": [],
   "source": [
    "async def get_vector_data(id_t, id_f):\n",
    "    t = [await db.get_vector_by_p_id(i) for i in id_t]\n",
    "    f = [await db.get_vector_by_p_id(i) for i in id_f]\n",
    "    return t + f, [1] * len(t) + [0] * len(f)"
   ]
  },
  {
   "cell_type": "code",
   "execution_count": 7,
   "metadata": {
    "ExecuteTime": {
     "end_time": "2023-05-03T22:19:35.363276600Z",
     "start_time": "2023-05-03T22:19:19.499282400Z"
    }
   },
   "outputs": [
    {
     "data": {
      "application/vnd.jupyter.widget-view+json": {
       "model_id": "223116e8edb845a4b481b68c631cc19d",
       "version_major": 2,
       "version_minor": 0
      },
      "text/plain": [
       "MetricVisualizer(layout=Layout(align_self='stretch', height='500px'))"
      ]
     },
     "metadata": {},
     "output_type": "display_data"
    },
    {
     "data": {
      "text/plain": [
       "<catboost.core.CatBoostClassifier at 0x1aba4b82710>"
      ]
     },
     "execution_count": 7,
     "metadata": {},
     "output_type": "execute_result"
    }
   ],
   "source": [
    "id_t = [255, 67, 35, 446, 382, 498]\n",
    "\n",
    "id_f = [507, 8005, 2774, 1998, 10806, 11649, 2873, 10135, 9498, 4669, 11457, 11339, 9106, 8793, 2169, 8905, 3790,\n",
    "        3832, 5273, 10106, 5402, 260, 70, 6270, 3893, 387]\n",
    "\n",
    "x, y = await get_vector_data(id_t, id_f)\n",
    "X_train, X_test, y_train, y_test = train_test_split(x, y, test_size=0.2)\n",
    "\n",
    "cat = CatBoostClassifier(\n",
    "    iterations=200,\n",
    "    random_seed=42,\n",
    "    learning_rate=0.1,\n",
    "    custom_loss=['AUC', 'Accuracy', 'PRAUC']\n",
    ")\n",
    "\n",
    "cat.fit(\n",
    "   X_train, y_train,\n",
    "   eval_set=(X_test, y_test),\n",
    "   logging_level='Silent',\n",
    "   plot=True\n",
    ")"
   ]
  },
  {
   "cell_type": "markdown",
   "metadata": {},
   "source": [
    "# 2. Word embedding"
   ]
  },
  {
   "cell_type": "code",
   "execution_count": 4,
   "metadata": {
    "ExecuteTime": {
     "end_time": "2023-05-03T22:19:35.383278200Z",
     "start_time": "2023-05-03T22:19:35.363276600Z"
    }
   },
   "outputs": [],
   "source": [
    "async def get_word_data(id_t, id_f):\n",
    "    path = 'C:\\\\Users\\\\yaros\\\\PycharmProjects\\\\RecomApi\\\\NLP\\\\hudlit_v1_12B_500K_300d_100q.tar'\n",
    "    navec = Navec.load(path)\n",
    "\n",
    "    t = [navec.get(await db.get_lemma_by_p_id(i)) for i in id_t]\n",
    "    f = [navec.get(await db.get_lemma_by_p_id(i)) for i in id_f]\n",
    "    return t + f, [1] * len(t) + [0] * len(f)"
   ]
  },
  {
   "cell_type": "code",
   "execution_count": 6,
   "metadata": {},
   "outputs": [
    {
     "data": {
      "application/vnd.jupyter.widget-view+json": {
       "model_id": "4486120eb36d4cf6a35430df7a5313d9",
       "version_major": 2,
       "version_minor": 0
      },
      "text/plain": [
       "MetricVisualizer(layout=Layout(align_self='stretch', height='500px'))"
      ]
     },
     "metadata": {},
     "output_type": "display_data"
    },
    {
     "data": {
      "text/plain": [
       "<catboost.core.CatBoostClassifier at 0x1aba4b815d0>"
      ]
     },
     "execution_count": 6,
     "metadata": {},
     "output_type": "execute_result"
    }
   ],
   "source": [
    "id_t = [255, 67, 35, 446, 382, 498]\n",
    "\n",
    "id_f = [507, 8005, 2774, 1998, 10806, 11649, 2873, 10135, 9498, 4669, 11457, 11339, 9106, 8793, 2169, 8905, 3790,\n",
    "        3832, 5273, 10106, 5402, 260, 70, 6270, 3893, 387]\n",
    "\n",
    "x, y = await get_word_data(id_t, id_f)\n",
    "X_train, X_test, y_train, y_test = train_test_split(x, y, test_size=0.2)\n",
    "\n",
    "cat = CatBoostClassifier(\n",
    "    iterations=200,\n",
    "    random_seed=42,\n",
    "    learning_rate=0.5,\n",
    "    custom_loss=['AUC', 'Accuracy']\n",
    ")\n",
    "\n",
    "cat.fit(\n",
    "   X_train, y_train,\n",
    "   eval_set=(X_test, y_test),\n",
    "   logging_level='Silent',\n",
    "   plot=True\n",
    ")"
   ]
  },
  {
   "cell_type": "code",
   "execution_count": null,
   "metadata": {},
   "outputs": [],
   "source": []
  }
 ],
 "metadata": {
  "kernelspec": {
   "display_name": "Python 3 (ipykernel)",
   "language": "python",
   "name": "python3"
  },
  "language_info": {
   "codemirror_mode": {
    "name": "ipython",
    "version": 3
   },
   "file_extension": ".py",
   "mimetype": "text/x-python",
   "name": "python",
   "nbconvert_exporter": "python",
   "pygments_lexer": "ipython3",
   "version": "3.10.11"
  }
 },
 "nbformat": 4,
 "nbformat_minor": 1
}
